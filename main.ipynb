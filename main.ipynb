{
 "cells": [
  {
   "attachments": {},
   "cell_type": "markdown",
   "metadata": {},
   "source": [
    "Code to run the rudimentary design(without CNN)"
   ]
  },
  {
   "cell_type": "code",
   "execution_count": 1,
   "metadata": {},
   "outputs": [
    {
     "ename": "ModuleNotFoundError",
     "evalue": "No module named 'torch'",
     "output_type": "error",
     "traceback": [
      "\u001b[0;31m---------------------------------------------------------------------------\u001b[0m",
      "\u001b[0;31mModuleNotFoundError\u001b[0m                       Traceback (most recent call last)",
      "Cell \u001b[0;32mIn[1], line 9\u001b[0m\n\u001b[1;32m      7\u001b[0m \u001b[38;5;28;01mimport\u001b[39;00m \u001b[38;5;21;01mos\u001b[39;00m\n\u001b[1;32m      8\u001b[0m \u001b[38;5;28;01mimport\u001b[39;00m \u001b[38;5;21;01mmoviepy\u001b[39;00m\u001b[38;5;21;01m.\u001b[39;00m\u001b[38;5;21;01meditor\u001b[39;00m \u001b[38;5;28;01mas\u001b[39;00m \u001b[38;5;21;01mmp\u001b[39;00m\n\u001b[0;32m----> 9\u001b[0m \u001b[38;5;28;01mfrom\u001b[39;00m \u001b[38;5;21;01mComponents\u001b[39;00m\u001b[38;5;21;01m.\u001b[39;00m\u001b[38;5;21;01mPhoneme_Extraction\u001b[39;00m \u001b[38;5;28;01mimport\u001b[39;00m speech2text\n\u001b[1;32m     10\u001b[0m \u001b[38;5;28;01mfrom\u001b[39;00m \u001b[38;5;21;01mComponents\u001b[39;00m\u001b[38;5;21;01m.\u001b[39;00m\u001b[38;5;21;01mp2fa_py3\u001b[39;00m\u001b[38;5;21;01m.\u001b[39;00m\u001b[38;5;21;01mp2fa\u001b[39;00m \u001b[38;5;28;01mimport\u001b[39;00m align\n\u001b[1;32m     11\u001b[0m \u001b[38;5;28;01mfrom\u001b[39;00m \u001b[38;5;21;01mComponents\u001b[39;00m\u001b[38;5;21;01m.\u001b[39;00m\u001b[38;5;21;01mViseme_Extraction\u001b[39;00m \u001b[38;5;28;01mimport\u001b[39;00m viseme\n",
      "File \u001b[0;32m~/Reuben/NITC_C-GCC_Repo/Sem8/Project_Part_2/deepfake-detection/Components/Phoneme_Extraction/speech2text.py:2\u001b[0m\n\u001b[1;32m      <a href='file:///home/reubensuju/Reuben/NITC_C-GCC_Repo/Sem8/Project_Part_2/deepfake-detection/Components/Phoneme_Extraction/speech2text.py?line=0'>1</a>\u001b[0m \u001b[39mimport\u001b[39;00m \u001b[39mmoviepy\u001b[39;00m\u001b[39m.\u001b[39;00m\u001b[39meditor\u001b[39;00m \u001b[39mas\u001b[39;00m \u001b[39mmp\u001b[39;00m\n\u001b[0;32m----> <a href='file:///home/reubensuju/Reuben/NITC_C-GCC_Repo/Sem8/Project_Part_2/deepfake-detection/Components/Phoneme_Extraction/speech2text.py?line=1'>2</a>\u001b[0m \u001b[39mimport\u001b[39;00m \u001b[39mtorch\u001b[39;00m\n\u001b[1;32m      <a href='file:///home/reubensuju/Reuben/NITC_C-GCC_Repo/Sem8/Project_Part_2/deepfake-detection/Components/Phoneme_Extraction/speech2text.py?line=2'>3</a>\u001b[0m \u001b[39mimport\u001b[39;00m \u001b[39mlibrosa\u001b[39;00m\n\u001b[1;32m      <a href='file:///home/reubensuju/Reuben/NITC_C-GCC_Repo/Sem8/Project_Part_2/deepfake-detection/Components/Phoneme_Extraction/speech2text.py?line=3'>4</a>\u001b[0m \u001b[39mimport\u001b[39;00m \u001b[39mnumpy\u001b[39;00m \u001b[39mas\u001b[39;00m \u001b[39mnp\u001b[39;00m\n",
      "\u001b[0;31mModuleNotFoundError\u001b[0m: No module named 'torch'"
     ]
    }
   ],
   "source": [
    "# Import all necessary files\n",
    "\n",
    "# import numpy as np\n",
    "# import torch\n",
    "# import librosa\n",
    "# import cv2\n",
    "import os\n",
    "import moviepy.editor as mp\n",
    "from Components.Phoneme_Extraction import speech2text\n",
    "from Components.p2fa_py3.p2fa import align\n",
    "from Components.Viseme_Extraction import viseme\n",
    "from Components.Mouth_Labelling import mouthLabelling"
   ]
  },
  {
   "cell_type": "code",
   "execution_count": null,
   "metadata": {},
   "outputs": [
    {
     "name": "stdout",
     "output_type": "stream",
     "text": [
      "./Datasets/Audio/zuckerbergDeepfake.wav\n",
      "MoviePy - Writing audio in ./Datasets/Audio/zuckerbergDeepfake.wav\n"
     ]
    },
    {
     "name": "stderr",
     "output_type": "stream",
     "text": [
      "                                                                    "
     ]
    },
    {
     "name": "stdout",
     "output_type": "stream",
     "text": [
      "MoviePy - Done.\n"
     ]
    },
    {
     "name": "stderr",
     "output_type": "stream",
     "text": [
      "\r"
     ]
    }
   ],
   "source": [
    "# Extract the audio from the input video file\n",
    "\n",
    "# Insert Local Video File Path\n",
    "\n",
    "video_path = \"./Datasets/Video/zuckerbergDeepfake.mp4\"\n",
    "clip = mp.VideoFileClip(video_path)\n",
    "    \n",
    "# Insert Local Audio File Path\n",
    "audio_path = video_path.replace('.mp4', '.wav').replace('Video', 'Audio')\n",
    "print(audio_path)\n",
    "clip.audio.write_audiofile(audio_path)"
   ]
  },
  {
   "cell_type": "code",
   "execution_count": null,
   "metadata": {},
   "outputs": [
    {
     "name": "stderr",
     "output_type": "stream",
     "text": [
      "The tokenizer class you load from this checkpoint is not the same type as the class this function is called from. It may result in unexpected tokenization. \n",
      "The tokenizer class you load from this checkpoint is 'Wav2Vec2CTCTokenizer'. \n",
      "The class this function is called from is 'Wav2Vec2Tokenizer'.\n",
      "Some weights of Wav2Vec2ForCTC were not initialized from the model checkpoint at facebook/wav2vec2-base-960h and are newly initialized: ['wav2vec2.masked_spec_embed']\n",
      "You should probably TRAIN this model on a down-stream task to be able to use it for predictions and inference.\n"
     ]
    },
    {
     "name": "stdout",
     "output_type": "stream",
     "text": [
      "IMAGINE THIS FOR A SECOND ONE MAN WITH TOTAL CONTROL OF BILLIONS OF PEOPLE STOLEN DATA ALL THEIR SECRETS THEIR LIVES THEIR FUTURES I OWE IT ALL TO SPECTRE SPECTRES SHOWED ME THAT WHOEVER CONTROLS THE DATA CONTROLS THE FUTURE AN\n"
     ]
    }
   ],
   "source": [
    "# Converting Audio file to Text\n",
    "\n",
    "transcription = speech2text.speech_transcription(audio_path)\n",
    "print(transcription)"
   ]
  },
  {
   "cell_type": "code",
   "execution_count": null,
   "metadata": {},
   "outputs": [],
   "source": [
    "# Write the variable value to the text file\n",
    "text_path = video_path.replace('.mp4', '.txt').replace('Video', 'Text')\n",
    "\n",
    "with open(text_path, 'w') as file:\n",
    "    file.write(transcription.replace(' ', '\\n'))"
   ]
  },
  {
   "cell_type": "code",
   "execution_count": null,
   "metadata": {},
   "outputs": [
    {
     "name": "stdout",
     "output_type": "stream",
     "text": [
      "Resampling wav file from 44100 to 11025...\n",
      "SKIPPING WORD IMAGINE\n",
      "SKIPPING WORD THIS\n",
      "SKIPPING WORD FOR\n",
      "SKIPPING WORD A\n",
      "SKIPPING WORD SECOND\n",
      "SKIPPING WORD ONE\n",
      "SKIPPING WORD MAN\n",
      "SKIPPING WORD WITH\n",
      "SKIPPING WORD TOTAL\n",
      "SKIPPING WORD CONTROL\n",
      "SKIPPING WORD OF\n",
      "SKIPPING WORD BILLIONS\n",
      "SKIPPING WORD OF\n",
      "SKIPPING WORD PEOPLE\n",
      "SKIPPING WORD STOLEN\n",
      "SKIPPING WORD DATA\n",
      "SKIPPING WORD ALL\n",
      "SKIPPING WORD THEIR\n",
      "SKIPPING WORD SECRETS\n",
      "SKIPPING WORD THEIR\n",
      "SKIPPING WORD LIVES\n",
      "SKIPPING WORD THEIR\n",
      "SKIPPING WORD FUTURES\n",
      "SKIPPING WORD I\n",
      "SKIPPING WORD OWE\n",
      "SKIPPING WORD IT\n",
      "SKIPPING WORD ALL\n",
      "SKIPPING WORD TO\n",
      "SKIPPING WORD SPECTRE\n",
      "SKIPPING WORD SPECTRES\n",
      "SKIPPING WORD SHOWED\n",
      "SKIPPING WORD ME\n",
      "SKIPPING WORD THAT\n",
      "SKIPPING WORD WHOEVER\n",
      "SKIPPING WORD CONTROLS\n",
      "SKIPPING WORD THE\n",
      "SKIPPING WORD DATA\n",
      "SKIPPING WORD CONTROLS\n",
      "SKIPPING WORD THE\n",
      "SKIPPING WORD FUTURE\n",
      "SKIPPING WORD AN\n"
     ]
    },
    {
     "ename": "FileNotFoundError",
     "evalue": "[Errno 2] No such file or directory: 'C:\\\\Users\\\\Reube\\\\AppData\\\\Local\\\\Temp\\\\p2fa\\\\aligned.mlf'",
     "output_type": "error",
     "traceback": [
      "\u001b[1;31m---------------------------------------------------------------------------\u001b[0m",
      "\u001b[1;31mFileNotFoundError\u001b[0m                         Traceback (most recent call last)",
      "\u001b[1;32m<ipython-input-10-426f960baa85>\u001b[0m in \u001b[0;36m<module>\u001b[1;34m\u001b[0m\n\u001b[0;32m      2\u001b[0m \u001b[1;33m\u001b[0m\u001b[0m\n\u001b[0;32m      3\u001b[0m \u001b[1;31m# Perform alignment using P2FA\u001b[0m\u001b[1;33m\u001b[0m\u001b[1;33m\u001b[0m\u001b[1;33m\u001b[0m\u001b[0m\n\u001b[1;32m----> 4\u001b[1;33m \u001b[0mphoneme_timestamps\u001b[0m\u001b[1;33m,\u001b[0m \u001b[0mword_timestamps\u001b[0m\u001b[1;33m,\u001b[0m \u001b[0mpff\u001b[0m \u001b[1;33m=\u001b[0m \u001b[0malign\u001b[0m\u001b[1;33m.\u001b[0m\u001b[0malign\u001b[0m\u001b[1;33m(\u001b[0m\u001b[0maudio_path\u001b[0m\u001b[1;33m,\u001b[0m \u001b[0mtext_path\u001b[0m\u001b[1;33m)\u001b[0m\u001b[1;33m\u001b[0m\u001b[1;33m\u001b[0m\u001b[0m\n\u001b[0m\u001b[0;32m      5\u001b[0m \u001b[1;33m\u001b[0m\u001b[0m\n\u001b[0;32m      6\u001b[0m \u001b[1;31m# Extract the timestamps of a specific phoneme\u001b[0m\u001b[1;33m\u001b[0m\u001b[1;33m\u001b[0m\u001b[1;33m\u001b[0m\u001b[0m\n",
      "\u001b[1;32mc:\\Reuben\\NITC\\Sem8\\Project Part 2\\deepfake-detection\\Components\\p2fa_py3\\p2fa\\align.py\u001b[0m in \u001b[0;36malign\u001b[1;34m(wavfile, trsfile, outfile, wave_start, wave_end, sr_override, model_path, custom_dict, state_align, verbose)\u001b[0m\n\u001b[0;32m    449\u001b[0m         \u001b[0mstate_alignments\u001b[0m \u001b[1;33m=\u001b[0m \u001b[1;32mNone\u001b[0m\u001b[1;33m\u001b[0m\u001b[1;33m\u001b[0m\u001b[0m\n\u001b[0;32m    450\u001b[0m \u001b[1;33m\u001b[0m\u001b[0m\n\u001b[1;32m--> 451\u001b[1;33m     \u001b[0m_alignments\u001b[0m \u001b[1;33m=\u001b[0m \u001b[0mread_aligned_mlf\u001b[0m\u001b[1;33m(\u001b[0m\u001b[0moutput_mlf\u001b[0m\u001b[1;33m,\u001b[0m \u001b[0msr\u001b[0m\u001b[1;33m,\u001b[0m \u001b[0mfloat\u001b[0m\u001b[1;33m(\u001b[0m\u001b[0mwave_start\u001b[0m\u001b[1;33m)\u001b[0m\u001b[1;33m)\u001b[0m\u001b[1;33m\u001b[0m\u001b[1;33m\u001b[0m\u001b[0m\n\u001b[0m\u001b[0;32m    452\u001b[0m     \u001b[0mphoneme_alignments\u001b[0m\u001b[1;33m,\u001b[0m \u001b[0mword_alignments\u001b[0m \u001b[1;33m=\u001b[0m \u001b[0mmake_alignment_lists\u001b[0m\u001b[1;33m(\u001b[0m\u001b[0m_alignments\u001b[0m\u001b[1;33m)\u001b[0m\u001b[1;33m\u001b[0m\u001b[1;33m\u001b[0m\u001b[0m\n\u001b[0;32m    453\u001b[0m \u001b[1;33m\u001b[0m\u001b[0m\n",
      "\u001b[1;32mc:\\Reuben\\NITC\\Sem8\\Project Part 2\\deepfake-detection\\Components\\p2fa_py3\\p2fa\\align.py\u001b[0m in \u001b[0;36mread_aligned_mlf\u001b[1;34m(mlffile, SR, wave_start)\u001b[0m\n\u001b[0;32m    186\u001b[0m     \u001b[1;31m# TODO: extract log-likelihood score\u001b[0m\u001b[1;33m\u001b[0m\u001b[1;33m\u001b[0m\u001b[1;33m\u001b[0m\u001b[0m\n\u001b[0;32m    187\u001b[0m \u001b[1;33m\u001b[0m\u001b[0m\n\u001b[1;32m--> 188\u001b[1;33m     \u001b[0mf\u001b[0m \u001b[1;33m=\u001b[0m \u001b[0mopen\u001b[0m\u001b[1;33m(\u001b[0m\u001b[0mmlffile\u001b[0m\u001b[1;33m,\u001b[0m \u001b[1;34m'r'\u001b[0m\u001b[1;33m)\u001b[0m\u001b[1;33m\u001b[0m\u001b[1;33m\u001b[0m\u001b[0m\n\u001b[0m\u001b[0;32m    189\u001b[0m     \u001b[0mlines\u001b[0m \u001b[1;33m=\u001b[0m \u001b[1;33m[\u001b[0m\u001b[0ml\u001b[0m\u001b[1;33m.\u001b[0m\u001b[0mrstrip\u001b[0m\u001b[1;33m(\u001b[0m\u001b[1;33m)\u001b[0m \u001b[1;32mfor\u001b[0m \u001b[0ml\u001b[0m \u001b[1;32min\u001b[0m \u001b[0mf\u001b[0m\u001b[1;33m.\u001b[0m\u001b[0mreadlines\u001b[0m\u001b[1;33m(\u001b[0m\u001b[1;33m)\u001b[0m\u001b[1;33m]\u001b[0m\u001b[1;33m\u001b[0m\u001b[1;33m\u001b[0m\u001b[0m\n\u001b[0;32m    190\u001b[0m     \u001b[0mf\u001b[0m\u001b[1;33m.\u001b[0m\u001b[0mclose\u001b[0m\u001b[1;33m(\u001b[0m\u001b[1;33m)\u001b[0m\u001b[1;33m\u001b[0m\u001b[1;33m\u001b[0m\u001b[0m\n",
      "\u001b[1;31mFileNotFoundError\u001b[0m: [Errno 2] No such file or directory: 'C:\\\\Users\\\\Reube\\\\AppData\\\\Local\\\\Temp\\\\p2fa\\\\aligned.mlf'"
     ]
    }
   ],
   "source": [
    "# Phoneme Extraction\n",
    "\n",
    "# Perform alignment using P2FA\n",
    "phoneme_timestamps, word_timestamps, pff = align.align(audio_path, text_path)\n",
    "\n",
    "# Extract the timestamps of a specific phoneme\n",
    "target_phonemes = [\"M\", \"B\", \"P\"] # Closed mouth phonemes that we want to extract\n",
    "for phoneme in target_phonemes:\n",
    "    target_phoneme_timestamps = [(start, end) for p, start, end in phoneme_timestamps if p == phoneme]\n",
    "\n",
    "# Print the timestamps of the target phoneme\n",
    "print(f\"Timestamps of '{phoneme}': {target_phoneme_timestamps}\")"
   ]
  },
  {
   "cell_type": "code",
   "execution_count": null,
   "metadata": {},
   "outputs": [],
   "source": [
    "target_phoneme_timestamps = [(2.6564625850340136, 2.756235827664399), (3.045578231292517, 3.1054421768707483), (6.248299319727891, 6.318140589569161), (12.30453514739229, 12.414285714285713), (16.315419501133785, 16.345351473922904), (22.840589569160993, 22.89047619047619), (24.52675736961451, 24.576643990929703), (25.48458049886621, 25.544444444444444), (34.384353741496604, 34.42426303854876), (36.040589569161, 36.070521541950114), (41.168934240362816, 41.208843537414964), (43.363945578231295, 43.41383219954648), (44.6609977324263, 44.81065759637188), (46.436961451247164, 46.50680272108844), (48.39251700680273, 48.462358276644), (53.2015873015873, 53.31133786848073), (55.45646258503402, 55.5562358276644), (58.210204081632654, 58.24013605442177), (64.19659863945579, 64.30634920634921), (64.47596371882086, 64.55578231292517)]\n"
   ]
  },
  {
   "cell_type": "code",
   "execution_count": null,
   "metadata": {},
   "outputs": [],
   "source": [
    "# Viseme Extraction\n",
    "\n",
    "#import libraires\n",
    "import cv2\n",
    "import numpy as np\n",
    "frames=viseme.extract_frames(\"./Datasets/Video/obamaDeepfake.mp4\",target_phoneme_timestamps)\n",
    "\n",
    "# Define the output folder\n",
    "frame_path = \"Datasets/Viseme_frames/\"\n",
    "\n",
    "# Loop through the frames and save them to the output folder\n",
    "for i, (frame,index,frame_seqnum) in enumerate(frames):\n",
    "    filename = \"Frame_{}_{}.jpg\".format(index,frame_seqnum)\n",
    "\n",
    "    cv2.imwrite( frame_path + filename, frame)\n"
   ]
  },
  {
   "cell_type": "code",
   "execution_count": null,
   "metadata": {},
   "outputs": [
    {
     "name": "stdout",
     "output_type": "stream",
     "text": [
      "c:\\Reuben\\NITC\\Sem8\\Project Part 2\\deepfake-detection\n",
      "[INFO] loading facial landmark predictor...\n",
      "Mouth aspect ratio:  180  items\n",
      "['Frame_0_0.jpg', 0.6519672003908359]\n",
      "['Frame_0_1.jpg', 0.7127129742374608]\n",
      "['Frame_0_2.jpg', 0.7127129742374608]\n",
      "['Frame_0_3.jpg', 0.6903683082676378]\n",
      "['Frame_0_4.jpg', 0.6903683082676378]\n",
      "['Frame_0_5.jpg', 0.6877832194010036]\n",
      "['Frame_10_0.jpg', 0.5507959505264843]\n",
      "['Frame_10_0.jpg', 0.5193889156877984]\n",
      "['Frame_10_1.jpg', 0.5507959505264843]\n",
      "['Frame_10_1.jpg', 0.5193889156877984]\n",
      "['Frame_10_2.jpg', 0.5507959505264843]\n",
      "['Frame_10_2.jpg', 0.5193889156877984]\n",
      "['Frame_10_3.jpg', 0.5507959505264843]\n",
      "['Frame_10_3.jpg', 0.5193889156877984]\n",
      "['Frame_10_4.jpg', 0.5507959505264843]\n",
      "['Frame_10_4.jpg', 0.5193889156877984]\n",
      "['Frame_10_5.jpg', 0.505699368813573]\n",
      "['Frame_10_5.jpg', 0.566968912404116]\n",
      "['Frame_11_0.jpg', 0.618048011946014]\n",
      "['Frame_11_0.jpg', 0.6606012906240639]\n",
      "['Frame_11_1.jpg', 0.618048011946014]\n",
      "['Frame_11_1.jpg', 0.6606012906240639]\n",
      "['Frame_11_2.jpg', 0.7143155549055015]\n",
      "['Frame_11_2.jpg', 0.611463580984207]\n",
      "['Frame_11_3.jpg', 0.7143155549055015]\n",
      "['Frame_11_3.jpg', 0.611463580984207]\n",
      "['Frame_11_4.jpg', 0.7143155549055015]\n",
      "['Frame_11_4.jpg', 0.611463580984207]\n",
      "['Frame_11_5.jpg', 0.7143155549055015]\n",
      "['Frame_11_5.jpg', 0.611463580984207]\n",
      "['Frame_12_0.jpg', 0.6131892273883314]\n",
      "['Frame_12_0.jpg', 0.5829675849706117]\n",
      "['Frame_12_1.jpg', 0.6328679893696624]\n",
      "['Frame_12_1.jpg', 0.6042946360676812]\n",
      "['Frame_12_2.jpg', 0.6772685299217708]\n",
      "['Frame_12_2.jpg', 0.6780543542686778]\n",
      "['Frame_12_3.jpg', 0.6772685299217708]\n",
      "['Frame_12_3.jpg', 0.6780543542686778]\n",
      "['Frame_12_4.jpg', 0.6889638678049046]\n",
      "['Frame_12_4.jpg', 0.6992570717808415]\n",
      "['Frame_12_5.jpg', 0.7252997217715652]\n",
      "['Frame_12_5.jpg', 0.648549574388454]\n",
      "['Frame_13_0.jpg', 0.585558661439386]\n",
      "['Frame_13_0.jpg', 0.6417428947569209]\n",
      "['Frame_13_1.jpg', 0.585558661439386]\n",
      "['Frame_13_1.jpg', 0.6417428947569209]\n",
      "['Frame_13_2.jpg', 0.6427171658287183]\n",
      "['Frame_13_2.jpg', 0.6851503428838168]\n",
      "['Frame_13_3.jpg', 0.6427171658287183]\n",
      "['Frame_13_3.jpg', 0.6851503428838168]\n",
      "['Frame_13_4.jpg', 0.6427171658287183]\n",
      "['Frame_13_4.jpg', 0.6851503428838168]\n",
      "['Frame_13_5.jpg', 0.650372790202268]\n",
      "['Frame_13_5.jpg', 0.6532464194982885]\n",
      "['Frame_14_0.jpg', 0.6328707132091373]\n",
      "['Frame_14_0.jpg', 0.647505062299879]\n",
      "['Frame_14_1.jpg', 0.6328707132091373]\n",
      "['Frame_14_1.jpg', 0.647505062299879]\n",
      "['Frame_14_2.jpg', 0.6328707132091373]\n",
      "['Frame_14_2.jpg', 0.647505062299879]\n",
      "['Frame_14_3.jpg', 0.6962399574136726]\n",
      "['Frame_14_3.jpg', 0.6317599310897637]\n",
      "['Frame_14_4.jpg', 0.6962399574136726]\n",
      "['Frame_14_4.jpg', 0.6317599310897637]\n",
      "['Frame_14_5.jpg', 0.6962399574136726]\n",
      "['Frame_14_5.jpg', 0.6317599310897637]\n",
      "['Frame_15_0.jpg', 0.6814186640106961]\n",
      "['Frame_15_0.jpg', 0.642824914631247]\n",
      "['Frame_15_1.jpg', 0.7017152302347568]\n",
      "['Frame_15_1.jpg', 0.6735687020939377]\n",
      "['Frame_15_2.jpg', 0.7017152302347568]\n",
      "['Frame_15_2.jpg', 0.6735687020939377]\n",
      "['Frame_15_3.jpg', 0.6822029030704305]\n",
      "['Frame_15_3.jpg', 0.6801318117746608]\n",
      "['Frame_15_4.jpg', 0.6822029030704305]\n",
      "['Frame_15_4.jpg', 0.6801318117746608]\n",
      "['Frame_15_5.jpg', 0.6638547548421584]\n",
      "['Frame_15_5.jpg', 0.6528676821173685]\n",
      "['Frame_16_0.jpg', 0.6311289885286012]\n",
      "['Frame_16_0.jpg', 0.6204910919793833]\n",
      "['Frame_16_1.jpg', 0.6178759437708752]\n",
      "['Frame_16_1.jpg', 0.6550193636551125]\n",
      "['Frame_16_2.jpg', 0.6178759437708752]\n",
      "['Frame_16_2.jpg', 0.6550193636551125]\n",
      "['Frame_16_3.jpg', 0.5754459003661927]\n",
      "['Frame_16_3.jpg', 0.661568313090691]\n",
      "['Frame_16_4.jpg', 0.5754459003661927]\n",
      "['Frame_16_4.jpg', 0.661568313090691]\n",
      "['Frame_16_5.jpg', 0.6434614688096507]\n",
      "['Frame_16_5.jpg', 0.5306754618272523]\n",
      "['Frame_17_0.jpg', 0.6826885171352802]\n",
      "['Frame_17_0.jpg', 0.6876573279116833]\n",
      "['Frame_17_1.jpg', 0.6826885171352802]\n",
      "['Frame_17_1.jpg', 0.6876573279116833]\n",
      "['Frame_17_2.jpg', 0.6826885171352802]\n",
      "['Frame_17_2.jpg', 0.6876573279116833]\n",
      "['Frame_17_3.jpg', 0.6887420468814759]\n",
      "['Frame_17_3.jpg', 0.6681842935842239]\n",
      "['Frame_17_4.jpg', 0.6887420468814759]\n",
      "['Frame_17_4.jpg', 0.6681842935842239]\n",
      "['Frame_17_5.jpg', 0.6887420468814759]\n",
      "['Frame_17_5.jpg', 0.6681842935842239]\n",
      "['Frame_18_0.jpg', 0.5986036254554987]\n",
      "['Frame_18_0.jpg', 0.554471065001509]\n",
      "['Frame_18_1.jpg', 0.5986036254554987]\n",
      "['Frame_18_1.jpg', 0.554471065001509]\n",
      "['Frame_18_2.jpg', 0.5802019692346241]\n",
      "['Frame_18_2.jpg', 0.6101114816079213]\n",
      "['Frame_18_3.jpg', 0.5802019692346241]\n",
      "['Frame_18_3.jpg', 0.6101114816079213]\n",
      "['Frame_18_4.jpg', 0.6135949903263291]\n",
      "['Frame_18_4.jpg', 0.6175110570850235]\n",
      "['Frame_18_5.jpg', 0.6135949903263291]\n",
      "['Frame_18_5.jpg', 0.6175110570850235]\n",
      "['Frame_19_0.jpg', 0.5989119921333818]\n",
      "['Frame_19_0.jpg', 0.5541088233970548]\n",
      "['Frame_19_1.jpg', 0.5835574378541833]\n",
      "['Frame_19_1.jpg', 0.6439187740027815]\n",
      "['Frame_19_2.jpg', 0.5835574378541833]\n",
      "['Frame_19_2.jpg', 0.6439187740027815]\n",
      "['Frame_19_3.jpg', 0.6332490259381085]\n",
      "['Frame_19_3.jpg', 0.6966093821598263]\n",
      "['Frame_19_4.jpg', 0.6332490259381085]\n",
      "['Frame_19_4.jpg', 0.6966093821598263]\n",
      "['Frame_19_5.jpg', 0.6332490259381085]\n",
      "['Frame_19_5.jpg', 0.6966093821598263]\n",
      "['Frame_1_0.jpg', 0.700284117611895]\n",
      "['Frame_1_1.jpg', 0.700284117611895]\n",
      "['Frame_1_2.jpg', 0.700284117611895]\n",
      "['Frame_1_3.jpg', 0.700284117611895]\n",
      "['Frame_1_4.jpg', 0.6483681456204393]\n",
      "['Frame_1_5.jpg', 0.6483681456204393]\n",
      "['Frame_2_0.jpg', 0.5287401845736251]\n",
      "['Frame_2_1.jpg', 0.5273229108854793]\n",
      "['Frame_2_2.jpg', 0.5273229108854793]\n",
      "['Frame_2_3.jpg', 0.5273229108854793]\n",
      "['Frame_2_4.jpg', 0.5178026691787421]\n",
      "['Frame_2_5.jpg', 0.5178026691787421]\n",
      "['Frame_3_0.jpg', 0.6213140454994921]\n",
      "['Frame_3_1.jpg', 0.6213140454994921]\n",
      "['Frame_3_2.jpg', 0.7000085230205618]\n",
      "['Frame_3_3.jpg', 0.7000085230205618]\n",
      "['Frame_3_4.jpg', 0.7289289253239023]\n",
      "['Frame_3_5.jpg', 0.7289289253239023]\n",
      "['Frame_4_0.jpg', 0.6805779497972586]\n",
      "['Frame_4_1.jpg', 0.6805779497972586]\n",
      "['Frame_4_2.jpg', 0.6805779497972586]\n",
      "['Frame_4_3.jpg', 0.6805779497972586]\n",
      "['Frame_4_4.jpg', 0.6805779497972586]\n",
      "['Frame_4_5.jpg', 0.6805779497972586]\n",
      "['Frame_5_0.jpg', 0.5593763054319166]\n",
      "['Frame_5_1.jpg', 0.5593763054319166]\n",
      "['Frame_5_2.jpg', 0.5995381054210127]\n",
      "['Frame_5_3.jpg', 0.5995381054210127]\n",
      "['Frame_5_4.jpg', 0.5995381054210127]\n",
      "['Frame_5_5.jpg', 0.5995381054210127]\n",
      "['Frame_6_0.jpg', 0.5790898294964162]\n",
      "['Frame_6_1.jpg', 0.5790898294964162]\n",
      "['Frame_6_2.jpg', 0.5790898294964162]\n",
      "['Frame_6_3.jpg', 0.5790898294964162]\n",
      "['Frame_6_4.jpg', 0.602977406587924]\n",
      "['Frame_6_5.jpg', 0.602977406587924]\n",
      "['Frame_7_0.jpg', 0.6201545886331685]\n",
      "['Frame_7_1.jpg', 0.6201545886331685]\n",
      "['Frame_7_2.jpg', 0.6201545886331685]\n",
      "['Frame_7_3.jpg', 0.6201545886331685]\n",
      "['Frame_7_4.jpg', 0.6994376502272344]\n",
      "['Frame_7_5.jpg', 0.6994376502272344]\n",
      "['Frame_8_0.jpg', 0.6111884932514334]\n",
      "['Frame_8_1.jpg', 0.6111884932514334]\n",
      "['Frame_8_2.jpg', 0.6111884932514334]\n",
      "['Frame_8_3.jpg', 0.6111884932514334]\n",
      "['Frame_8_4.jpg', 0.6228942959417321]\n",
      "['Frame_8_5.jpg', 0.6228942959417321]\n",
      "['Frame_9_0.jpg', 0.6626337078088566]\n",
      "['Frame_9_1.jpg', 0.6626337078088566]\n",
      "['Frame_9_2.jpg', 0.6626337078088566]\n",
      "['Frame_9_3.jpg', 0.6626337078088566]\n",
      "['Frame_9_4.jpg', 0.6626337078088566]\n",
      "['Frame_9_5.jpg', 0.6626337078088566]\n"
     ]
    }
   ],
   "source": [
    "# MAR Calculation\n",
    "\n",
    "mar = mouthLabelling.mouth_aspect_ratio(frame_path)\n",
    "print(\"Mouth aspect ratio: \", len(mar), \" items\")\n",
    "for i in range(len(mar)):\n",
    "  print (mar[i])"
   ]
  },
  {
   "cell_type": "code",
   "execution_count": null,
   "metadata": {},
   "outputs": [],
   "source": [
    "# Mismatch Calculation\n",
    "\n",
    "MOUTH_AR_THRESH = 0.65\n",
    "\n"
   ]
  }
 ],
 "metadata": {
  "kernelspec": {
   "display_name": "Python 3",
   "language": "python",
   "name": "python3"
  },
  "language_info": {
   "codemirror_mode": {
    "name": "ipython",
    "version": 3
   },
   "file_extension": ".py",
   "mimetype": "text/x-python",
   "name": "python",
   "nbconvert_exporter": "python",
   "pygments_lexer": "ipython3",
   "version": "3.8.10"
  },
  "orig_nbformat": 4,
  "vscode": {
   "interpreter": {
    "hash": "b081a66ee97bd2b6a16f43955f1d810b7ea816d6eaeb65e157ef9e038445f0c6"
   }
  }
 },
 "nbformat": 4,
 "nbformat_minor": 2
}
