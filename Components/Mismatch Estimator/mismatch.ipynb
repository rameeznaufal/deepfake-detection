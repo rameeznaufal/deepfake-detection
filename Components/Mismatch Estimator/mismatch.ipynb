{
 "cells": [
  {
   "cell_type": "code",
   "execution_count": 3,
   "metadata": {},
   "outputs": [
    {
     "name": "stdout",
     "output_type": "stream",
     "text": [
      "[1 1 0]\n",
      "Mismatch of the Frames: 33.33%\n"
     ]
    }
   ],
   "source": [
    "# Code to calculate the mismatch error rate\n",
    "\n",
    "import numpy as np\n",
    "\n",
    "# Array of frame values| 0: open, 1: closed\n",
    "frame_values = np.array([[0, 1, 0, 0, 1, 0],\n",
    "                        [1, 0, 1, 1, 0, 1],\n",
    "                        [0, 0, 0, 0, 0, 0]])\n",
    "\n",
    "# Create an empty 1D NumPy array with the same number of rows as frame_values\n",
    "classification = np.zeros(frame_values.shape[0], dtype=int)\n",
    "    \n",
    "# Iterate over the rows of the array\n",
    "for i in range(frame_values.shape[0]):\n",
    "    # Check if the row contains any 1s\n",
    "    if np.sum(frame_values[i]) > 0:\n",
    "        classification[i] = 1\n",
    "    \n",
    "print(classification)\n",
    "\n",
    "# Calculate the percentage of 0's in the array\n",
    "num_zeros = np.sum(classification == 0)\n",
    "mismatch = (num_zeros / len(classification)) * 100\n",
    "    \n",
    "print(f\"Mismatch of the Frames: {mismatch:.2f}%\")"
   ]
  }
 ],
 "metadata": {
  "kernelspec": {
   "display_name": "Python 3",
   "language": "python",
   "name": "python3"
  },
  "language_info": {
   "codemirror_mode": {
    "name": "ipython",
    "version": 3
   },
   "file_extension": ".py",
   "mimetype": "text/x-python",
   "name": "python",
   "nbconvert_exporter": "python",
   "pygments_lexer": "ipython3",
   "version": "3.8.3rc1"
  },
  "orig_nbformat": 4,
  "vscode": {
   "interpreter": {
    "hash": "b081a66ee97bd2b6a16f43955f1d810b7ea816d6eaeb65e157ef9e038445f0c6"
   }
  }
 },
 "nbformat": 4,
 "nbformat_minor": 2
}
