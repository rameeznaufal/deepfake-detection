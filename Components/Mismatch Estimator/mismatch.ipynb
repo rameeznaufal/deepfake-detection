{
 "cells": [
  {
   "cell_type": "code",
   "execution_count": 7,
   "metadata": {},
   "outputs": [
    {
     "name": "stdout",
     "output_type": "stream",
     "text": [
      "[[0.2  0.36 0.64 0.49 0.72 0.02]\n",
      " [0.5  0.11 0.1  1.   0.46 0.11]\n",
      " [0.14 0.28 0.5  0.46 0.4  0.55]\n",
      " [0.2  0.41 0.06 0.88 0.99 0.38]\n",
      " [0.74 0.62 0.26 0.43 0.23 0.22]\n",
      " [0.37 0.36 0.68 0.62 0.06 0.83]\n",
      " [0.36 0.9  0.78 0.52 0.85 0.83]\n",
      " [0.54 0.07 0.72 0.93 0.22 0.63]\n",
      " [0.2  0.96 0.7  0.03 0.48 0.65]\n",
      " [0.17 0.07 0.34 0.07 0.41 0.95]\n",
      " [0.89 0.24 0.37 0.22 0.41 0.9 ]\n",
      " [0.55 0.41 0.04 0.9  0.3  0.35]\n",
      " [0.75 0.97 0.95 0.65 0.97 0.64]\n",
      " [0.8  0.19 0.32 0.12 0.71 0.16]\n",
      " [0.43 0.44 0.38 0.79 0.1  0.61]\n",
      " [0.77 0.22 0.89 0.25 0.04 0.08]\n",
      " [0.41 0.67 0.75 0.66 0.2  0.11]\n",
      " [0.1  0.81 0.63 0.46 0.63 0.18]\n",
      " [0.04 0.26 0.29 0.6  0.92 0.78]\n",
      " [0.9  0.59 0.73 0.08 0.05 0.59]]\n",
      "[1 1 0 1 1 1 1 1 1 1 1 1 1 1 1 1 1 1 1 1]\n",
      "Mismatch of the Frames: 5.00%\n"
     ]
    }
   ],
   "source": [
    "# Code to calculate the mismatch error rate\n",
    "\n",
    "import numpy as np\n",
    "\n",
    "# Array of MAR values\n",
    "frame_values = np.random.rand(20, 6)\n",
    "frame_values = np.round(frame_values, 2)\n",
    "print(frame_values)\n",
    "\n",
    "# Array of frame classification values| 0: open, 1: closed\n",
    "frame_values[frame_values >= 0.6] = 1\n",
    "frame_values[frame_values < 0.6] = 0\n",
    "\n",
    "# Create an empty 1D NumPy array with the same number of rows as frame_values\n",
    "classification = np.zeros(frame_values.shape[0], dtype=int)\n",
    "    \n",
    "# Iterate over the rows of the array\n",
    "for i in range(frame_values.shape[0]):\n",
    "    # Check if the row contains any 1s\n",
    "    if np.sum(frame_values[i]) > 0:\n",
    "        classification[i] = 1\n",
    "    \n",
    "print(classification)\n",
    "\n",
    "# Calculate the percentage of 0's in the array\n",
    "num_zeros = np.sum(classification == 0)\n",
    "mismatch = (num_zeros / len(classification)) * 100\n",
    "    \n",
    "print(f\"Mismatch of the Frames: {mismatch:.2f}%\")"
   ]
  }
 ],
 "metadata": {
  "kernelspec": {
   "display_name": "Python 3",
   "language": "python",
   "name": "python3"
  },
  "language_info": {
   "codemirror_mode": {
    "name": "ipython",
    "version": 3
   },
   "file_extension": ".py",
   "mimetype": "text/x-python",
   "name": "python",
   "nbconvert_exporter": "python",
   "pygments_lexer": "ipython3",
   "version": "3.8.3rc1"
  },
  "orig_nbformat": 4,
  "vscode": {
   "interpreter": {
    "hash": "b081a66ee97bd2b6a16f43955f1d810b7ea816d6eaeb65e157ef9e038445f0c6"
   }
  }
 },
 "nbformat": 4,
 "nbformat_minor": 2
}
