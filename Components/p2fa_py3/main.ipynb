{
 "cells": [
  {
   "cell_type": "code",
   "execution_count": 3,
   "metadata": {},
   "outputs": [
    {
     "name": "stdout",
     "output_type": "stream",
     "text": [
      "Resampling wav file from 44100 to 11025...\n",
      "SKIPPING WORD DIPSHIT\n",
      "SKIPPING WORD DYSTOPIA\n",
      "/tmp/p2fa/sound.wav -> /tmp/p2fa/tmp.plp \n",
      "[(2.6564625850340136, 2.756235827664399), (3.045578231292517, 3.1054421768707483), (6.248299319727891, 6.318140589569161), (12.30453514739229, 12.414285714285713), (16.315419501133785, 16.345351473922904), (22.840589569160993, 22.89047619047619), (24.52675736961451, 24.576643990929703), (25.48458049886621, 25.544444444444444), (34.384353741496604, 34.42426303854876), (36.040589569161, 36.070521541950114), (41.168934240362816, 41.208843537414964), (43.363945578231295, 43.41383219954648), (44.6609977324263, 44.81065759637188), (46.436961451247164, 46.50680272108844), (48.39251700680273, 48.462358276644), (53.2015873015873, 53.31133786848073), (55.45646258503402, 55.5562358276644), (58.210204081632654, 58.24013605442177), (64.19659863945579, 64.30634920634921), (64.47596371882086, 64.55578231292517)]\n"
     ]
    }
   ],
   "source": [
    "from p2fa import align\n",
    "\n",
    "# Define the path to your audio file and transcription file\n",
    "audio_path = \"transcript.wav\"\n",
    "transcription_path = \"obama.txt\"\n",
    "\n",
    "# Perform alignment using P2FA\n",
    "phoneme_timestamps, word_timestamps, pff = align.align(audio_path, transcription_path)\n",
    "\n",
    "# Extract the timestamps of a specific phoneme\n",
    "target_phoneme = \"M\" # Replace with the phoneme you want to extract\n",
    "target_phoneme_timestamps = [(start, end) for phoneme, start, end in phoneme_timestamps if phoneme == target_phoneme]\n",
    "\n",
    "# Print the timestamps of the target phoneme\n",
    "print(target_phoneme_timestamps)\n"
   ]
  },
  {
   "cell_type": "code",
   "execution_count": 3,
   "metadata": {},
   "outputs": [
    {
     "name": "stdout",
     "output_type": "stream",
     "text": [
      "WERE ENTERING AN ERA WHICH OUR ENEMIES CAN MAKE IT LOOK LIKE ANY ONE IS SAYING ANYTHING AT ANY POINT IN TIME EVEN IF THEY WOULD NEVER SAY THOSE THINGS SO FOR INSTANCE THEY COULD HAVE ME SAY THINGS LIKE I KNOW KILIMANJARO WAS RIGHT OR BEN CARSON IS IN THE SUNKEN PLACE OR ABOUT THIS SIMPLY PRESIDENT TRUMP IS A TOTAL AND COMPLETE DIPSHIT NOW YOU SEE I WOULD NEVER SAY THESE THINGS AT LEAST NOT IN A PUBLIC ADDRESS BUT SOME ONE ELSE WOULD SOME ONE LIKE GORDON PEAL THIS IS A DANGEROUS TIME MOVING FORWARD WE NEED TO BE MORE VIGILANT WITH WHAT WE TRUST FROM THE INTERNET THATS A TIME WHEN WE NEED TO RELY ON TRUSTED NEW SOURCES MAY SOUND BASIC BUT HOW WE MOVE FORWARD IN THE AGE OF INFORMATION IS GOING TO BE THE DIFFERENCE BETWEEN WHETHER WE SURVIVE OR WHETHER WE BECOME SOME KIND OF FUCKED UP DYSTOPIA THANK YOU STAY WOKE BITCHES\n"
     ]
    }
   ],
   "source": [
    "import pyfoal\n",
    "\n",
    "alignment = pyfoal.from_file(\"obama.txt\", \"transcript_11025.wav\")\n",
    "\n",
    "print(alignment)"
   ]
  }
 ],
 "metadata": {
  "interpreter": {
   "hash": "916dbcbb3f70747c44a77c7bcd40155683ae19c65e1c03b4aa3499c5328201f1"
  },
  "kernelspec": {
   "display_name": "Python 3.8.10 64-bit",
   "language": "python",
   "name": "python3"
  },
  "language_info": {
   "codemirror_mode": {
    "name": "ipython",
    "version": 3
   },
   "file_extension": ".py",
   "mimetype": "text/x-python",
   "name": "python",
   "nbconvert_exporter": "python",
   "pygments_lexer": "ipython3",
   "version": "3.8.10"
  },
  "orig_nbformat": 4
 },
 "nbformat": 4,
 "nbformat_minor": 2
}
