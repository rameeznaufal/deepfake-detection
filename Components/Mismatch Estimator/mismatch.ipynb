{
 "cells": [
  {
   "cell_type": "code",
   "execution_count": 11,
   "metadata": {},
   "outputs": [
    {
     "name": "stdout",
     "output_type": "stream",
     "text": [
      "[[0.95 0.59 0.33 0.36 0.64 0.49]\n",
      " [0.19 0.36 0.57 0.35 0.35 0.1 ]\n",
      " [0.19 0.09 0.84 0.96 0.34 0.52]\n",
      " [0.54 0.3  0.11 0.17 0.09 0.74]\n",
      " [0.31 0.58 0.21 0.85 0.06 0.1 ]\n",
      " [0.84 0.54 0.63 0.57 0.4  0.81]\n",
      " [0.65 0.39 0.79 0.65 0.13 0.1 ]\n",
      " [0.6  0.99 0.32 0.77 0.44 0.49]\n",
      " [0.52 0.69 0.11 0.05 0.11 0.64]\n",
      " [0.59 0.23 0.39 0.27 0.22 0.25]\n",
      " [0.16 0.91 0.96 0.67 0.42 0.29]\n",
      " [0.45 0.17 0.98 0.97 0.15 0.44]\n",
      " [0.9  0.64 0.03 0.59 0.82 0.77]\n",
      " [0.36 0.29 0.02 0.54 0.18 0.21]\n",
      " [0.28 0.9  0.52 0.85 0.54 0.15]\n",
      " [0.97 0.54 0.7  0.71 0.62 0.3 ]\n",
      " [0.34 0.76 0.11 0.74 0.93 0.89]\n",
      " [0.81 0.35 0.6  0.64 0.19 0.25]\n",
      " [0.2  0.07 0.75 0.77 0.14 1.  ]\n",
      " [0.93 0.72 0.15 0.39 0.12 0.95]\n",
      " [0.2  0.98 0.42 0.86 0.93 0.45]\n",
      " [0.49 0.78 0.17 0.33 0.38 0.41]\n",
      " [0.02 0.43 0.11 0.77 0.19 0.09]\n",
      " [0.36 0.2  0.27 0.74 0.21 0.02]\n",
      " [0.95 0.4  0.94 0.55 0.95 0.3 ]\n",
      " [0.26 0.52 0.4  0.48 0.74 0.91]\n",
      " [0.27 0.86 0.79 0.97 0.21 0.45]\n",
      " [0.52 0.7  0.01 0.94 0.86 0.52]\n",
      " [0.55 0.15 0.01 0.13 0.2  0.51]\n",
      " [0.84 0.89 0.47 0.11 0.89 0.78]\n",
      " [0.98 0.49 0.2  0.49 0.73 0.14]\n",
      " [0.13 0.24 0.75 0.76 0.9  0.54]\n",
      " [0.47 0.42 0.55 0.05 0.1  0.73]\n",
      " [0.84 0.79 0.29 0.79 0.21 0.03]\n",
      " [0.82 0.3  0.27 0.67 0.27 0.07]\n",
      " [0.41 0.9  0.04 0.96 0.94 0.05]\n",
      " [0.94 0.26 0.09 0.91 0.84 0.98]\n",
      " [0.13 0.92 0.58 0.46 0.56 0.25]\n",
      " [0.53 0.43 0.95 0.69 0.14 0.91]\n",
      " [0.35 0.13 0.99 0.28 0.95 0.24]\n",
      " [0.42 0.96 0.01 0.15 0.82 0.98]\n",
      " [0.84 0.7  0.76 0.87 0.68 0.83]\n",
      " [0.45 0.83 0.6  0.57 0.54 0.28]\n",
      " [0.88 0.11 0.28 0.95 0.57 0.79]\n",
      " [0.21 0.28 0.21 0.36 0.96 0.59]\n",
      " [0.39 0.99 0.34 0.01 0.79 0.08]\n",
      " [0.23 0.09 0.81 0.99 0.93 0.22]\n",
      " [0.66 0.58 0.38 0.34 0.24 0.  ]\n",
      " [0.5  0.31 0.62 0.26 0.74 0.83]\n",
      " [0.21 0.46 0.33 0.9  0.88 0.77]]\n",
      "[0 0 0 0 0 0 0 0 0 0 0 0 0 0 0 0 0 0 0 0 0 0 0 0 0 0 0 0 0 0 0 0 0 0 0 0 0\n",
      " 0 0 0 0 1 0 0 0 0 0 0 0 0]\n",
      "Mismatch of the Frames: 2.00%\n"
     ]
    }
   ],
   "source": [
    "# Code to calculate the mismatch error rate\n",
    "\n",
    "import numpy as np\n",
    "\n",
    "# Array of MAR values\n",
    "frame_values = np.random.rand(50, 6)\n",
    "frame_values = np.round(frame_values, 2)\n",
    "print(frame_values)\n",
    "\n",
    "# Array of frame classification values| 1: open, 0: closed\n",
    "frame_values[frame_values >= 0.6] = 1\n",
    "frame_values[frame_values < 0.6] = 0\n",
    "\n",
    "# Create an empty 1D NumPy array with the same number of rows as frame_values\n",
    "classification = np.ones(frame_values.shape[0], dtype=int)\n",
    "    \n",
    "# Iterate over the rows of the array\n",
    "for i in range(frame_values.shape[0]):\n",
    "    # Check if the row contains any 0s\n",
    "    if 0 in frame_values[i]:\n",
    "        classification[i] = 0\n",
    "    \n",
    "print(classification)\n",
    "\n",
    "# Calculate the percentage of 1's in the array\n",
    "num_zeros = np.sum(classification == 1)\n",
    "mismatch = (num_zeros / len(classification)) * 100\n",
    "    \n",
    "print(f\"Mismatch of the Frames: {mismatch:.2f}%\")"
   ]
  }
 ],
 "metadata": {
  "kernelspec": {
   "display_name": "venv",
   "language": "python",
   "name": "python3"
  },
  "language_info": {
   "codemirror_mode": {
    "name": "ipython",
    "version": 3
   },
   "file_extension": ".py",
   "mimetype": "text/x-python",
   "name": "python",
   "nbconvert_exporter": "python",
   "pygments_lexer": "ipython3",
   "version": "3.9.5"
  },
  "orig_nbformat": 4,
  "vscode": {
   "interpreter": {
    "hash": "65f0376e53f64dc0830bdf4e1e0f1cda09c8e2cd15e90a6fa5827398e6ad0a59"
   }
  }
 },
 "nbformat": 4,
 "nbformat_minor": 2
}
