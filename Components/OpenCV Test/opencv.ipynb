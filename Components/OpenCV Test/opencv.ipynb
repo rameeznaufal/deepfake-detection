{
 "cells": [
  {
   "cell_type": "code",
   "execution_count": 6,
   "metadata": {},
   "outputs": [
    {
     "data": {
      "text/plain": [
       "198"
      ]
     },
     "execution_count": 6,
     "metadata": {},
     "output_type": "execute_result"
    }
   ],
   "source": [
    "import cv2\n",
    " \n",
    "capture = cv2.VideoCapture('OpenCV test.mp4')\n",
    " \n",
    "frameNr = 0\n",
    " \n",
    "while (True):\n",
    " \n",
    "    success, frame = capture.read()\n",
    " \n",
    "    if success:\n",
    "        cv2.imwrite(f'output/frame_{frameNr}.jpg', frame)\n",
    " \n",
    "    else:\n",
    "        break\n",
    " \n",
    "    frameNr = frameNr+1\n",
    " \n",
    "capture.release()\n",
    "\n",
    "frameNr"
   ]
  },
  {
   "cell_type": "code",
   "execution_count": 1,
   "metadata": {},
   "outputs": [
    {
     "data": {
      "text/plain": [
       "198"
      ]
     },
     "execution_count": 1,
     "metadata": {},
     "output_type": "execute_result"
    }
   ],
   "source": [
    "import cv2\n",
    "import mediapipe\n",
    " \n",
    "drawingModule = mediapipe.solutions.drawing_utils\n",
    "handsModule = mediapipe.solutions.hands\n",
    " \n",
    "capture = cv2.VideoCapture('OpenCV test.mp4')\n",
    " \n",
    "frameNr = 0\n",
    " \n",
    "with handsModule.Hands() as hands:\n",
    " \n",
    "    while (True):\n",
    " \n",
    "        success, frame = capture.read()\n",
    " \n",
    "        if not success:\n",
    "            break\n",
    " \n",
    "        results = hands.process(cv2.cvtColor(frame, cv2.COLOR_BGR2RGB))\n",
    " \n",
    "        if results.multi_hand_landmarks != None:\n",
    "            for handLandmarks in results.multi_hand_landmarks:\n",
    "                drawingModule.draw_landmarks(frame, handLandmarks, handsModule.HAND_CONNECTIONS)\n",
    " \n",
    "        cv2.imwrite(f'output/frame_{frameNr}.jpg', frame)\n",
    " \n",
    "        frameNr = frameNr+1\n",
    " \n",
    "capture.release()\n",
    "\n",
    "frameNr"
   ]
  },
  {
   "cell_type": "code",
   "execution_count": null,
   "metadata": {},
   "outputs": [],
   "source": [
    "import dlib\n",
    " \n",
    "img = dlib.load_rgb_image(\"C:/Users/N/Desktop/Test.jpg\")\n",
    "win = dlib.image_window(img, \"Image\")\n",
    " \n",
    "detector = dlib.get_frontal_face_detector()\n",
    "faces = detector(img)\n",
    "win.add_overlay(faces)\n",
    " \n",
    "predictor = dlib.shape_predictor(\"C:/Users/N/Desktop/shape_predictor_68_face_landmarks.dat\")\n",
    " \n",
    "for face in faces:\n",
    "    landmarks = predictor(img, face)\n",
    " \n",
    "    print(landmarks.num_parts)\n",
    " \n",
    "    for part in landmarks.parts():\n",
    "        win.add_overlay_circle(part, 2)\n",
    " \n",
    "win.wait_until_closed()"
   ]
  }
 ],
 "metadata": {
  "kernelspec": {
   "display_name": "Python 3.8.3rc1 64-bit",
   "language": "python",
   "name": "python3"
  },
  "language_info": {
   "codemirror_mode": {
    "name": "ipython",
    "version": 3
   },
   "file_extension": ".py",
   "mimetype": "text/x-python",
   "name": "python",
   "nbconvert_exporter": "python",
   "pygments_lexer": "ipython3",
   "version": "3.8.3"
  },
  "orig_nbformat": 4,
  "vscode": {
   "interpreter": {
    "hash": "b081a66ee97bd2b6a16f43955f1d810b7ea816d6eaeb65e157ef9e038445f0c6"
   }
  }
 },
 "nbformat": 4,
 "nbformat_minor": 2
}
